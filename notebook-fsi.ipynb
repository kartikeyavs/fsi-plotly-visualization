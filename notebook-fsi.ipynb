{
 "cells": [
  {
   "cell_type": "code",
   "execution_count": 14,
   "metadata": {
    "scrolled": false
   },
   "outputs": [
    {
     "data": {
      "text/plain": [
       "'3.7.0'"
      ]
     },
     "execution_count": 14,
     "metadata": {},
     "output_type": "execute_result"
    }
   ],
   "source": [
    "import os\n",
    "import glob\n",
    "import re\n",
    "import pandas as pd\n",
    "import plotly\n",
    "import plotly.graph_objs as go\n",
    "from IPython.display import display, HTML\n",
    "from plotly.offline import download_plotlyjs, init_notebook_mode, plot, iplot\n",
    "plotly.__version__"
   ]
  },
  {
   "cell_type": "code",
   "execution_count": 15,
   "metadata": {
    "scrolled": false
   },
   "outputs": [
    {
     "data": {
      "text/html": [
       "<script type=\"text/javascript\">window.PlotlyConfig = {MathJaxConfig: 'local'};</script><script type=\"text/javascript\">if (window.MathJax) {MathJax.Hub.Config({SVG: {font: \"STIX-Web\"}});}</script><script>requirejs.config({paths: { 'plotly': ['https://cdn.plot.ly/plotly-latest.min']},});if(!window._Plotly) {require(['plotly'],function(plotly) {window._Plotly=plotly;});}</script>"
      ],
      "text/vnd.plotly.v1+html": [
       "<script type=\"text/javascript\">window.PlotlyConfig = {MathJaxConfig: 'local'};</script><script type=\"text/javascript\">if (window.MathJax) {MathJax.Hub.Config({SVG: {font: \"STIX-Web\"}});}</script><script>requirejs.config({paths: { 'plotly': ['https://cdn.plot.ly/plotly-latest.min']},});if(!window._Plotly) {require(['plotly'],function(plotly) {window._Plotly=plotly;});}</script>"
      ]
     },
     "metadata": {},
     "output_type": "display_data"
    }
   ],
   "source": [
    "init_notebook_mode(connected=True)\n",
    "pd.set_option('display.precision', 1)"
   ]
  },
  {
   "cell_type": "markdown",
   "metadata": {},
   "source": [
    "# DATA PREPARATION"
   ]
  },
  {
   "cell_type": "markdown",
   "metadata": {},
   "source": [
    "Read data from excel file into a pandas data frame."
   ]
  },
  {
   "cell_type": "code",
   "execution_count": 16,
   "metadata": {
    "scrolled": false
   },
   "outputs": [],
   "source": [
    "def extract_xlsx(filename):\n",
    "    fsiDataFrame = pd.read_excel(filename)\n",
    "    score = fsiDataFrame['Total']\n",
    "    countries = fsiDataFrame['Country']\n",
    "    return fsiDataFrame, score, countries"
   ]
  },
  {
   "cell_type": "markdown",
   "metadata": {},
   "source": [
    "Read data from csv file and prepare ISO - 3 Country code dictonary.\n",
    "- Type: DataFrame\n",
    "- String form:\n",
    "\n",
    "                                COUNTRY CODE\n",
    "           0               Afghanistan  AFG\n",
    "           1                   Albania  AL <...> ia  ZMB\n",
    "           223                Zimbabwe  ZWE\n",
    "           224                Eswatini  SWZ\n",
    "           \n",
    "           [225 rows x 2 columns]\n",
    "Length:      225"
   ]
  },
  {
   "cell_type": "code",
   "execution_count": 17,
   "metadata": {
    "scrolled": false
   },
   "outputs": [],
   "source": [
    "def iso3_code():\n",
    "    isoDataFrame = pd.read_csv('./data/ISO-3166-1-alpha-3.csv')\n",
    "    isoCodeDict = dict(zip(isoDataFrame['COUNTRY'], isoDataFrame['CODE']))\n",
    "    return isoCodeDict"
   ]
  },
  {
   "cell_type": "markdown",
   "metadata": {},
   "source": [
    "# PREPARE DATAFAME FOR CHOROPLETH "
   ]
  },
  {
   "cell_type": "code",
   "execution_count": 18,
   "metadata": {
    "scrolled": false
   },
   "outputs": [],
   "source": [
    "def country_code_mapping(file):\n",
    "    _,score,countries = extract_xlsx(file)\n",
    "    codeDict = iso3_code()\n",
    "    codeList = list()\n",
    "    for countryName in countries:\n",
    "        codeList.append(codeDict[countryName.strip(' ')])\n",
    "    return score, countries,codeList"
   ]
  },
  {
   "cell_type": "code",
   "execution_count": 19,
   "metadata": {
    "scrolled": false
   },
   "outputs": [],
   "source": [
    "def combine_data(file):  \n",
    "    score, countries, code = country_code_mapping(file=file)\n",
    "    data = dict(ISOCode = code, FsScore = score, Country = countries)\n",
    "    choroplethData = pd.DataFrame.from_dict(data)\n",
    "    return choroplethData['ISOCode'], choroplethData['FsScore'], choroplethData['Country']"
   ]
  },
  {
   "cell_type": "markdown",
   "metadata": {},
   "source": [
    "# PREPARING DATA AND FRAMES"
   ]
  },
  {
   "cell_type": "markdown",
   "metadata": {},
   "source": [
    "##### COLORSCALE FOR COLORBAR\n",
    "        [\n",
    "        [0, 'rgb(25,25,112)'], #'MidnightBlue', \n",
    "        [0.08333333, 'rgb(65,105,225)'], #'RoyalBlue',\n",
    "        [0.16666667, 'rgb(100,149,237)'],#'CornflowerBlue', \n",
    "        [0.33333333, 'rgb(0,100,0)'],#'DarkGreen',\n",
    "        [0.41666667, 'rgb(0,128,0)'],#'Green',\n",
    "        [0.5, 'rgb(50,205,50)'],#'LimeGreen',\n",
    "        [0.58333333, 'rgb(255,255,0)'],#'Yellow',\n",
    "        [0.66666667, 'rgb(255,215,0)'],#'Gold',\n",
    "        [0.75, 'rgb(255,140,0)'],#'DarkOrange',\n",
    "        [0.83333333, 'rgb(255,69,0)'],#'OrangeRed',\n",
    "        [0.91666667, 'rgb(178,34,34)'],#'FireBrick', \n",
    "        [1, 'rgb(139,0,0)'] # 'DarkRed'\n",
    "      ]\n"
   ]
  },
  {
   "cell_type": "code",
   "execution_count": 20,
   "metadata": {
    "scrolled": false
   },
   "outputs": [],
   "source": [
    "def make_frame(file):\n",
    "    c,s,c_name = combine_data(file=file)\n",
    "    frameData = go.Choropleth(   \n",
    "                    locations = c,\n",
    "                    z = s,\n",
    "                    text = c_name,\n",
    "                    colorscale =  [\n",
    "                                    [0, 'rgb(25,25,112)'],\n",
    "                                    [0.0833, 'rgb(25,25,112)'], # 0 - 10\n",
    "\n",
    "                                    [0.0833, 'rgb(65,105,225)'], \n",
    "                                    [0.1666, 'rgb(65,105,225)'], # 11 - 20\n",
    "\n",
    "                                    [0.1666, 'rgb(100,149,237)'], # 21 - 30\n",
    "                                    [0.25, 'rgb(100,149,237)'],\n",
    "\n",
    "                                    [0.25, 'rgb(0,100,0)'], # 31 - 40\n",
    "                                    [0.3333, 'rgb(0,100,0)'],\n",
    "\n",
    "                                    [0.3333, 'rgb(0,128,0)'], #41 - 50\n",
    "                                    [0.4166, 'rgb(0,128,0)'],\n",
    "\n",
    "                                    [0.4166, 'rgb(50,205,50)'], #51 - 60\n",
    "                                    [0.5, 'rgb(50,205,50)'],\n",
    "\n",
    "                                    [0.5, 'rgb(255,255,0)'], #61 - 70\n",
    "                                    [0.5833, 'rgb(255,255,0)'],\n",
    "\n",
    "                                    [0.5833, 'rgb(255,215,0)'], #71 - 80\n",
    "                                    [0.6666, 'rgb(255,215,0)'],\n",
    "\n",
    "                                    [0.6666, 'rgb(255,140,0)'], #81 - 90\n",
    "                                    [0.75, 'rgb(255,140,0)'],\n",
    "\n",
    "                                    [0.75, 'rgb(255,69,0)'], #91 - 100\n",
    "                                    [0.8333, 'rgb(255,69,0)'],\n",
    "\n",
    "                                    [0.8333, 'rgb(178,34,34)'], #101 - 110\n",
    "                                    [0.9166, 'rgb(178,34,34)'],\n",
    "\n",
    "                                    [0.9166, 'rgb(139,0,0)'], #111 - 120\n",
    "                                    [1, 'rgb(139,0,0)']\n",
    "                                    ],\n",
    "                    zmin = 0.0,\n",
    "                    zmax = 120.0,\n",
    "                    autocolorscale = False,\n",
    "                    reversescale = False,\n",
    "                    marker = go.choropleth.Marker(\n",
    "                    line = go.choropleth.marker.Line(\n",
    "                            color = 'rgb(105,105,105)',\n",
    "                            width = 0.25)),\n",
    "                    colorbar = go.choropleth.ColorBar(\n",
    "                            title = {'text': 'FSI Score', 'font':{'size': 20}},\n",
    "                            tickmode = 'array',\n",
    "                            tickvals = list(range(0,130,10)),\n",
    "                            ticktext = ['0','','Sustainable','','', 'Stable','', '', 'Warning','', '', 'Alert']))\n",
    "    return frameData"
   ]
  },
  {
   "cell_type": "code",
   "execution_count": 21,
   "metadata": {},
   "outputs": [],
   "source": [
    "def make_data(file = './data/xlsx/fsi-2006.xlsx'):\n",
    "    c,s,c_name = combine_data(file=file)\n",
    "    frameData = [go.Choropleth(   \n",
    "                    locations = c,\n",
    "                    z = s,\n",
    "                    text = c_name,\n",
    "                    colorscale =  [\n",
    "                                    [0, 'rgb(25,25,112)'],\n",
    "                                    [0.0833, 'rgb(25,25,112)'], # 0 - 10\n",
    "\n",
    "                                    [0.0833, 'rgb(65,105,225)'], \n",
    "                                    [0.1666, 'rgb(65,105,225)'], # 11 - 20\n",
    "\n",
    "                                    [0.1666, 'rgb(100,149,237)'], # 21 - 30\n",
    "                                    [0.25, 'rgb(100,149,237)'],\n",
    "\n",
    "                                    [0.25, 'rgb(0,100,0)'], # 31 - 40\n",
    "                                    [0.3333, 'rgb(0,100,0)'],\n",
    "\n",
    "                                    [0.3333, 'rgb(0,128,0)'], #41 - 50\n",
    "                                    [0.4166, 'rgb(0,128,0)'],\n",
    "\n",
    "                                    [0.4166, 'rgb(50,205,50)'], #51 - 60\n",
    "                                    [0.5, 'rgb(50,205,50)'],\n",
    "\n",
    "                                    [0.5, 'rgb(255,255,0)'], #61 - 70\n",
    "                                    [0.5833, 'rgb(255,255,0)'],\n",
    "\n",
    "                                    [0.5833, 'rgb(255,215,0)'], #71 - 80\n",
    "                                    [0.6666, 'rgb(255,215,0)'],\n",
    "\n",
    "                                    [0.6666, 'rgb(255,140,0)'], #81 - 90\n",
    "                                    [0.75, 'rgb(255,140,0)'],\n",
    "\n",
    "                                    [0.75, 'rgb(255,69,0)'], #91 - 100\n",
    "                                    [0.8333, 'rgb(255,69,0)'],\n",
    "\n",
    "                                    [0.8333, 'rgb(178,34,34)'], #101 - 110\n",
    "                                    [0.9166, 'rgb(178,34,34)'],\n",
    "\n",
    "                                    [0.9166, 'rgb(139,0,0)'], #111 - 120\n",
    "                                    [1, 'rgb(139,0,0)']\n",
    "                                    ],\n",
    "                    zmin = 0.0,\n",
    "                    zmax = 120.0,\n",
    "                    autocolorscale = False,\n",
    "                    reversescale = False,\n",
    "                    marker = go.choropleth.Marker(\n",
    "                    line = go.choropleth.marker.Line(\n",
    "                            color = 'rgb(105,105,105)',\n",
    "                            width = 0.25)),\n",
    "                    colorbar = go.choropleth.ColorBar(\n",
    "                            title = {'text': 'FSI Score', 'font':{'size': 20}},\n",
    "                            tickmode = 'array',\n",
    "                            tickvals = list(range(0,130,10)),\n",
    "                            ticktext = ['0','','Sustainable','','', 'Stable','', '', 'Warning','', '', 'Alert']))]\n",
    "    return frameData"
   ]
  },
  {
   "cell_type": "markdown",
   "metadata": {},
   "source": [
    "# APPEND FRAMES"
   ]
  },
  {
   "cell_type": "code",
   "execution_count": 22,
   "metadata": {
    "scrolled": false
   },
   "outputs": [],
   "source": [
    "def make_frame_list():\n",
    "    frames = []\n",
    "    years = list()\n",
    "    for file in glob.glob('./data/xlsx/*.xlsx'):\n",
    "        frameList = {'data' : [], 'name' : \"\".join(re.findall(r'\\d+', file))}\n",
    "        years.append(\"\".join(re.findall(r'\\d+', file)))\n",
    "        frameList['data'].append(make_frame(file=file))\n",
    "        frames.append(frameList)\n",
    "    return frames, years"
   ]
  },
  {
   "cell_type": "markdown",
   "metadata": {},
   "source": [
    "# PREPARE STEPS FOR SLIDER"
   ]
  },
  {
   "cell_type": "code",
   "execution_count": 23,
   "metadata": {},
   "outputs": [],
   "source": [
    "def make_steps(years):\n",
    "    stps = list()\n",
    "    for yrs in years:\n",
    "        stps.append(go.layout.slider.Step(args= [[yrs], \n",
    "               {'frame':{'duration': 300, 'redraw' : False},\n",
    "                'mode' : 'immediate',\n",
    "             'transition' : {'duration': 300}}],\n",
    "         method = 'animate',\n",
    "         label = yrs,\n",
    "         visible = True\n",
    "                ))\n",
    "    return stps"
   ]
  },
  {
   "cell_type": "markdown",
   "metadata": {},
   "source": [
    "# PLOT CHOROPLETH MAP"
   ]
  },
  {
   "cell_type": "code",
   "execution_count": 28,
   "metadata": {
    "scrolled": false
   },
   "outputs": [],
   "source": [
    "def plot_choropleth():\n",
    "    f, years = make_frame_list()\n",
    "    data = make_data()\n",
    "    layout = go.Layout(\n",
    "        \n",
    "    title = go.layout.Title(text = 'Fragile States Index : 2006 - 2019', \n",
    "                            font=go.layout.title.Font(size=25)),\n",
    "    annotations = [{'text': '<b>Source:</b> <a href=\"https://fragilestatesindex.org/\">The Fund For Peace</a> <br> \\\n",
    "    <b>Data:</b> <a href=\"https://fragilestatesindex.org/excel/\">Fragile States Index</a>',\n",
    "                    'showarrow': False,\n",
    "                    'x': 0.5,\n",
    "                    'xanchor':'center',\n",
    "                    'y': 1,\n",
    "                    'yanchor':'bottom'}],\n",
    "    geo = go.layout.Geo(\n",
    "    showframe = False,\n",
    "    showcoastlines = False,\n",
    "    showocean = False,\n",
    "    oceancolor = 'rgb(173,216,230)',\n",
    "    bgcolor = '#add8e6',\n",
    "    projection = go.layout.geo.Projection(\n",
    "        type = 'miller',           \n",
    "            )\n",
    "    ),\n",
    "    updatemenus = [go.layout.Updatemenu(\n",
    "    type='buttons',\n",
    "    visible = True,\n",
    "    buttons = [\n",
    "        go.layout.updatemenu.Button(\n",
    "            args = [None, \n",
    "            {\n",
    "            'frame': {\n",
    "                'duration': 500,\n",
    "                'redraw': False\n",
    "            },\n",
    "\n",
    "            'fromcurrent': True, \n",
    "            'transition': {\n",
    "                'duration': 300, \n",
    "                'easing': 'quadratic-in-out'\n",
    "            }\n",
    "            }],\n",
    "\n",
    "            label='Play',\n",
    "            visible=True, \n",
    "            method='animate'\n",
    "        ),\n",
    "               \n",
    "         go.layout.updatemenu.Button(\n",
    "            args=[[None], {\n",
    "                'frame': {\n",
    "                    'duration': 0,\n",
    "                    'redraw': False\n",
    "                },\n",
    "                \n",
    "            'mode': 'immediate',\n",
    "            'transition': {'duration': 0}\n",
    "             }],\n",
    "            \n",
    "            label='Pause',\n",
    "            visible=True, \n",
    "            method='animate'\n",
    "        )])],\n",
    "    sliders = [go.layout.Slider(\n",
    "            \n",
    "            currentvalue = go.layout.slider.Currentvalue(\n",
    "                         font = {'size': 30},\n",
    "                         prefix = 'Year:',\n",
    "                         visible = True,\n",
    "                         xanchor = 'center'\n",
    "                ),\n",
    "            y = 1.005,\n",
    "            yanchor = 'top',\n",
    "            pad = {\"t\": 10, 'b': 20},\n",
    "            visible = True,\n",
    "            steps = make_steps(years)\n",
    "    )], \n",
    "        height = 1000,\n",
    "        width = 1000\n",
    "                      )\n",
    "\n",
    "    fig = dict(data = data, layout = layout, frames = f)\n",
    "    iplot(fig)"
   ]
  }
 ],
 "metadata": {
  "kernelspec": {
   "display_name": "Python 3",
   "language": "python",
   "name": "python3"
  },
  "language_info": {
   "codemirror_mode": {
    "name": "ipython",
    "version": 3
   },
   "file_extension": ".py",
   "mimetype": "text/x-python",
   "name": "python",
   "nbconvert_exporter": "python",
   "pygments_lexer": "ipython3",
   "version": "3.7.2"
  }
 },
 "nbformat": 4,
 "nbformat_minor": 2
}
